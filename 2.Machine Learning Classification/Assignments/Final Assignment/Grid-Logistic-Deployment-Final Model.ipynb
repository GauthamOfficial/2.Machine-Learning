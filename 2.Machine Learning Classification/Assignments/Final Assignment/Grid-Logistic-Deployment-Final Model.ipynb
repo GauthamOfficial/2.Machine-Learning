{
 "cells": [
  {
   "cell_type": "code",
   "execution_count": 1,
   "id": "4f9e346c",
   "metadata": {},
   "outputs": [],
   "source": [
    "import pickle"
   ]
  },
  {
   "cell_type": "code",
   "execution_count": 2,
   "id": "797d9216",
   "metadata": {},
   "outputs": [],
   "source": [
    "sc = pickle.load(open(\"scaler_x1.sav\", 'rb'))"
   ]
  },
  {
   "cell_type": "code",
   "execution_count": 3,
   "id": "b01f78ea",
   "metadata": {},
   "outputs": [
    {
     "name": "stdout",
     "output_type": "stream",
     "text": [
      "Age: 23\n",
      "bp: 70\n",
      "al: 3\n",
      "su: 2\n",
      "bgr: 219\n",
      "bu: 57.4\n",
      "sc: 2.5\n",
      "sod: 137.5288\n",
      "pot: 3.23\n",
      "hrmo: 11.36\n",
      "pcv: 41\n",
      "wc: 8408\n",
      "rc: 5.4\n",
      "sg_b: 0\n",
      "sg_c: 1\n",
      "sg_d: 0\n",
      "sg_e: 0\n",
      "rbc_normal: 1\n",
      "pc_normal: 1\n",
      "pcc_normal: 1\n",
      "ba_present: 0\n",
      "htn_yes: 0\n",
      "dm_yes: 1\n",
      "cad_yes: 1\n",
      "appet_yes: 0\n",
      "pe_yes: 0\n",
      "ane_yes: 1\n"
     ]
    }
   ],
   "source": [
    "age_input = float(input(\"Age: \"))\n",
    "bp_input = float(input(\"bp: \"))\n",
    "al_input = float(input(\"al: \"))\n",
    "su_input = float(input(\"su: \"))\n",
    "bgr_input = float(input(\"bgr: \"))\n",
    "bu_input = float(input(\"bu: \"))\n",
    "sc_input = float(input(\"sc: \"))\n",
    "sod_input = float(input(\"sod: \"))\n",
    "pot_input = float(input(\"pot: \"))\n",
    "hrmo_input = float(input(\"hrmo: \"))\n",
    "pcv_input = float(input(\"pcv: \"))\n",
    "wc_input = float(input(\"wc: \"))\n",
    "rc_input = float(input(\"rc: \"))\n",
    "sg_b_input = int(input(\"sg_b: \"))\n",
    "sg_c_input = int(input(\"sg_c: \"))\n",
    "sg_d_input = int(input(\"sg_d: \"))\n",
    "sg_e_input = int(input(\"sg_e: \"))\n",
    "rbc_normal_input = int(input(\"rbc_normal: \"))\n",
    "pc_normal_input = int(input(\"pc_normal: \"))\n",
    "pcc_present_input = int(input(\"pcc_normal: \"))\n",
    "ba_present_input = int(input(\"ba_present: \"))\n",
    "htn_yes_input = int(input(\"htn_yes: \"))\n",
    "dm_yes_input = int(input(\"dm_yes: \"))\n",
    "cad_yes_input = int(input(\"cad_yes: \"))\n",
    "appet_yes_input = int(input(\"appet_yes: \"))\n",
    "pe_yes_input = int(input(\"pe_yes: \"))\n",
    "ane_yes_input = int(input(\"ane_yes: \"))"
   ]
  },
  {
   "cell_type": "code",
   "execution_count": 4,
   "id": "57c4fe99",
   "metadata": {},
   "outputs": [],
   "source": [
    "new_data = [[age_input, bp_input, al_input, su_input, bgr_input, bu_input, sc_input, sod_input, pot_input, hrmo_input, pcv_input, wc_input, rc_input, sg_b_input, sg_c_input, sg_d_input, sg_e_input, rbc_normal_input, pc_normal_input, pcc_present_input, ba_present_input, htn_yes_input, dm_yes_input, cad_yes_input, appet_yes_input, pe_yes_input, ane_yes_input]]"
   ]
  },
  {
   "cell_type": "code",
   "execution_count": 5,
   "id": "576bb212",
   "metadata": {},
   "outputs": [
    {
     "name": "stderr",
     "output_type": "stream",
     "text": [
      "C:\\Users\\User\\anaconda3\\Lib\\site-packages\\sklearn\\base.py:464: UserWarning: X does not have valid feature names, but StandardScaler was fitted with feature names\n",
      "  warnings.warn(\n"
     ]
    }
   ],
   "source": [
    "new_data_standardized = sc.transform(new_data)"
   ]
  },
  {
   "cell_type": "code",
   "execution_count": 8,
   "id": "1aae2f07",
   "metadata": {},
   "outputs": [],
   "source": [
    "loaded_model = pickle.load(open(\"finalized_model_Logistic.sav\", 'rb'))\n",
    "result = loaded_model.predict(new_data_standardized)"
   ]
  },
  {
   "cell_type": "code",
   "execution_count": 9,
   "id": "fa758bdd",
   "metadata": {},
   "outputs": [
    {
     "name": "stdout",
     "output_type": "stream",
     "text": [
      "Future_Prediction=[1]\n"
     ]
    }
   ],
   "source": [
    "print(\"Future_Prediction={}\".format(result))"
   ]
  },
  {
   "cell_type": "code",
   "execution_count": null,
   "id": "0c792a7f",
   "metadata": {},
   "outputs": [],
   "source": []
  }
 ],
 "metadata": {
  "kernelspec": {
   "display_name": "Python 3 (ipykernel)",
   "language": "python",
   "name": "python3"
  },
  "language_info": {
   "codemirror_mode": {
    "name": "ipython",
    "version": 3
   },
   "file_extension": ".py",
   "mimetype": "text/x-python",
   "name": "python",
   "nbconvert_exporter": "python",
   "pygments_lexer": "ipython3",
   "version": "3.11.5"
  }
 },
 "nbformat": 4,
 "nbformat_minor": 5
}
